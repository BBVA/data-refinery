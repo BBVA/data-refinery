{
 "cells": [
  {
   "cell_type": "code",
   "execution_count": null,
   "metadata": {
    "collapsed": true
   },
   "outputs": [],
   "source": [
    "!pip install data-refinery\n",
    "!pip install pyspark"
   ]
  },
  {
   "cell_type": "code",
   "execution_count": null,
   "metadata": {
    "collapsed": true
   },
   "outputs": [],
   "source": [
    "from datarefinery.tuple.TupleDSL import compose\n",
    "from datarefinery.Tr import Tr\n",
    "from datarefinery.tuple.TupleOperations import append, substitution, wrap\n",
    "from datarefinery.FieldOperations import date_parser, explode_date, remove_columns, add_column_prefix, column_category\n",
    "import pyspark"
   ]
  },
  {
   "cell_type": "code",
   "execution_count": null,
   "metadata": {
    "collapsed": true
   },
   "outputs": [],
   "source": [
    "weather_categories = ['cold', 'warm', 'hot']\n",
    "\n",
    "row = {'id': 1, 'fecha': '2017-02-23', 'weather': 'cold'}"
   ]
  },
  {
   "cell_type": "markdown",
   "metadata": {},
   "source": [
    "# Local"
   ]
  },
  {
   "cell_type": "code",
   "execution_count": null,
   "metadata": {
    "collapsed": true
   },
   "outputs": [],
   "source": [
    "complete_date = compose(\n",
    "        date_parser([\"%Y-%m-%d\"]),\n",
    "        explode_date,\n",
    "        remove_columns(\"hour\", \"minute\", \"second\"),\n",
    "        add_column_prefix(\"x\")\n",
    ")\n",
    "\n",
    "operation = Tr(append(['weather'], column_category(weather_categories))).then(append(['fecha'], complete_date)).apply()\n",
    "\n",
    "(inp, out, err) = operation(row)\n",
    "\n",
    "print('Input: ', inp)\n",
    "print('Ouput: ', out)"
   ]
  },
  {
   "cell_type": "markdown",
   "metadata": {},
   "source": [
    "# Cluster"
   ]
  },
  {
   "cell_type": "code",
   "execution_count": null,
   "metadata": {
    "collapsed": true
   },
   "outputs": [],
   "source": [
    "sc = pyspark.SparkContext('local[*]')"
   ]
  },
  {
   "cell_type": "code",
   "execution_count": null,
   "metadata": {
    "collapsed": true
   },
   "outputs": [],
   "source": [
    "weather = sc.parallelize([row])\n",
    "out_rdd = weather.map(operation).map(lambda x: x[1])\n",
    "\n",
    "print(out_rdd.collect())"
   ]
  }
 ],
 "metadata": {
  "anaconda-cloud": {},
  "kernelspec": {
   "display_name": "Python [default]",
   "language": "python",
   "name": "python3"
  },
  "language_info": {
   "codemirror_mode": {
    "name": "ipython",
    "version": 3
   },
   "file_extension": ".py",
   "mimetype": "text/x-python",
   "name": "python",
   "nbconvert_exporter": "python",
   "pygments_lexer": "ipython3",
   "version": "3.5.4"
  }
 },
 "nbformat": 4,
 "nbformat_minor": 2
}
