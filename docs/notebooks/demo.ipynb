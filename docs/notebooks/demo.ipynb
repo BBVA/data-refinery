{
 "cells": [
  {
   "cell_type": "code",
   "execution_count": 1,
   "metadata": {},
   "outputs": [
    {
     "name": "stdout",
     "output_type": "stream",
     "text": [
      "Requirement already satisfied: data-refinery in /home/cesargallego/.pyenv/versions/3.6.0/envs/mx/lib/python3.6/site-packages\n",
      "Requirement already satisfied: pyspark in /home/cesargallego/.pyenv/versions/3.6.0/envs/mx/lib/python3.6/site-packages\n",
      "Requirement already satisfied: py4j==0.10.4 in /home/cesargallego/.pyenv/versions/3.6.0/envs/mx/lib/python3.6/site-packages (from pyspark)\n"
     ]
    }
   ],
   "source": [
    "!pip install data-refinery \n",
    "!pip install pyspark"
   ]
  },
  {
   "cell_type": "code",
   "execution_count": 6,
   "metadata": {},
   "outputs": [],
   "source": [
    "from datarefinery.tuple.TupleDSL import compose\n",
    "from datarefinery.TupleOperations import append, substitution, wrap\n",
    "from datarefinery.FieldOperations import remove_columns, add_column_prefix, column_category\n",
    "from datarefinery.DateFieldOperations import date_parser, explode_date\n",
    "from datarefinery.CombineOperations import parallel\n",
    "import pyspark"
   ]
  },
  {
   "cell_type": "code",
   "execution_count": 7,
   "metadata": {},
   "outputs": [],
   "source": [
    "weather_categories = ['cold', 'warm', 'hot']\n",
    "\n",
    "row = {'id': 1, 'fecha': '2017-02-23', 'weather': 'cold'}"
   ]
  },
  {
   "cell_type": "markdown",
   "metadata": {},
   "source": [
    "# Local"
   ]
  },
  {
   "cell_type": "code",
   "execution_count": 9,
   "metadata": {},
   "outputs": [
    {
     "name": "stdout",
     "output_type": "stream",
     "text": [
      "Ouput:  {'cold': 1, 'warm': 0, 'hot': 0, 'x_year': 2017, 'x_month': 2, 'x_day': 23}\n"
     ]
    }
   ],
   "source": [
    "complete_date = compose(\n",
    "        date_parser([\"%Y-%m-%d\"]),\n",
    "        explode_date,\n",
    "        remove_columns(\"hour\", \"minute\", \"second\"),\n",
    "        add_column_prefix(\"x\")\n",
    ")\n",
    "\n",
    "operation = parallel(append(['weather'], column_category(weather_categories)), append(['fecha'], complete_date))\n",
    "\n",
    "(out, err) = operation(row)\n",
    "\n",
    "print('Ouput: ', out)"
   ]
  },
  {
   "cell_type": "markdown",
   "metadata": {},
   "source": [
    "# Cluster"
   ]
  },
  {
   "cell_type": "code",
   "execution_count": 10,
   "metadata": {},
   "outputs": [],
   "source": [
    "sc = pyspark.SparkContext('local[*]')"
   ]
  },
  {
   "cell_type": "code",
   "execution_count": 11,
   "metadata": {},
   "outputs": [
    {
     "name": "stdout",
     "output_type": "stream",
     "text": [
      "[{'cold': 1, 'warm': 0, 'hot': 0, 'x_year': 2017, 'x_month': 2, 'x_day': 23}]\n"
     ]
    }
   ],
   "source": [
    "weather = sc.parallelize([row])\n",
    "out_rdd = weather.map(operation).map(lambda x: x[0])\n",
    "\n",
    "print(out_rdd.collect())"
   ]
  }
 ],
 "metadata": {
  "anaconda-cloud": {},
  "kernelspec": {
   "display_name": "Python 3",
   "language": "python",
   "name": "python3"
  },
  "language_info": {
   "codemirror_mode": {
    "name": "ipython",
    "version": 3
   },
   "file_extension": ".py",
   "mimetype": "text/x-python",
   "name": "python",
   "nbconvert_exporter": "python",
   "pygments_lexer": "ipython3",
   "version": "3.6.0"
  }
 },
 "nbformat": 4,
 "nbformat_minor": 2
}
