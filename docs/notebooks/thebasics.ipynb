{
 "cells": [
  {
   "cell_type": "markdown",
   "metadata": {},
   "source": [
    "# Ej 1: Eliminando columnas\n",
    "\n",
    "Dada la fila *row* quedate solo con el campo *greet*"
   ]
  },
  {
   "cell_type": "code",
   "execution_count": 3,
   "metadata": {},
   "outputs": [],
   "source": [
    "row = {\"greet\": \"hello\", \"who\": \"world\"}"
   ]
  },
  {
   "cell_type": "code",
   "execution_count": 4,
   "metadata": {},
   "outputs": [],
   "source": [
    "# tu código aqui"
   ]
  },
  {
   "cell_type": "markdown",
   "metadata": {},
   "source": [
    "# Ej 2: Cambiando valores\n",
    "\n",
    "Dada la fila *row* cambia el valor de *greet* por la longitud de su valor actual."
   ]
  },
  {
   "cell_type": "code",
   "execution_count": 5,
   "metadata": {},
   "outputs": [],
   "source": [
    "row = {\"greet\": \"hello\", \"who\": \"world\"}"
   ]
  },
  {
   "cell_type": "code",
   "execution_count": null,
   "metadata": {},
   "outputs": [],
   "source": [
    "# tu código aqui"
   ]
  },
  {
   "cell_type": "markdown",
   "metadata": {},
   "source": [
    "# Ej 3: Esto es un número\n",
    "\n",
    "Te han puesto en el campo *cant* de *row* ¡un texto! cambialo por un numero."
   ]
  },
  {
   "cell_type": "code",
   "execution_count": null,
   "metadata": {},
   "outputs": [],
   "source": [
    "row = {\"cant\": \"6\"}"
   ]
  },
  {
   "cell_type": "code",
   "execution_count": 6,
   "metadata": {},
   "outputs": [],
   "source": [
    "# tu código aqui"
   ]
  },
  {
   "cell_type": "markdown",
   "metadata": {},
   "source": [
    "# Ej 4: Fecha en texto\n",
    "\n",
    "Te han dado una fecha en formato texto, pero necesitamos el valor de la fecha explotada en sus campos. Por ejemplo, \"2017-10-23\" debería generar los campos *year*=2017 *month*=10 *day*=23"
   ]
  },
  {
   "cell_type": "code",
   "execution_count": null,
   "metadata": {},
   "outputs": [],
   "source": [
    "row = {\"fecha\": \"2017-10-23\"}"
   ]
  },
  {
   "cell_type": "code",
   "execution_count": 7,
   "metadata": {},
   "outputs": [],
   "source": [
    "# tu código aqui"
   ]
  },
  {
   "cell_type": "markdown",
   "metadata": {},
   "source": [
    "# Ej 5: Fecha sin tiempo\n",
    "\n",
    "Con la fecha en formato texto del ejemplo anterior queremos quedarnos solo con el año, mes y día."
   ]
  },
  {
   "cell_type": "code",
   "execution_count": 8,
   "metadata": {},
   "outputs": [],
   "source": [
    "row = {\"fecha\": \"2017-10-23\"}"
   ]
  },
  {
   "cell_type": "code",
   "execution_count": 9,
   "metadata": {},
   "outputs": [],
   "source": [
    "# tu código aqui"
   ]
  },
  {
   "cell_type": "markdown",
   "metadata": {},
   "source": [
    "# Ej 6: Explotar dos fechas\n",
    "\n",
    "Ahora te llegan dos fechas que hay que explotar como ya has hecho en los pasos anteriores. ¿Necesitarás un prefijo? ¿Necesitarás una forma de encadenar varias transformaciones de diferentes campos?"
   ]
  },
  {
   "cell_type": "code",
   "execution_count": null,
   "metadata": {},
   "outputs": [],
   "source": [
    "row = {\"fecha_a\": \"2017-10-23\", \"fecha_b\": \"2017-01-22\"}"
   ]
  },
  {
   "cell_type": "code",
   "execution_count": 10,
   "metadata": {},
   "outputs": [],
   "source": [
    "# tu código aqui"
   ]
  },
  {
   "cell_type": "markdown",
   "metadata": {},
   "source": [
    "# Ej 7: One hot vector día de la semana\n",
    "\n",
    "Te piden añadir un campo que represente cada día de la semana (lun, mar, mie, jue...) todos los días tendrán por defecto un 0, pero el dia de la semana que corresponda con el de la fecha dada tendrá un 1."
   ]
  },
  {
   "cell_type": "code",
   "execution_count": null,
   "metadata": {},
   "outputs": [],
   "source": [
    "row = {\"fecha\": \"2017-10-23\"}"
   ]
  },
  {
   "cell_type": "code",
   "execution_count": null,
   "metadata": {},
   "outputs": [],
   "source": [
    "# tu código aqui"
   ]
  }
 ],
 "metadata": {
  "kernelspec": {
   "display_name": "Python 3",
   "language": "python",
   "name": "python3"
  },
  "language_info": {
   "codemirror_mode": {
    "name": "ipython",
    "version": 3
   },
   "file_extension": ".py",
   "mimetype": "text/x-python",
   "name": "python",
   "nbconvert_exporter": "python",
   "pygments_lexer": "ipython3",
   "version": "3.6.2"
  }
 },
 "nbformat": 4,
 "nbformat_minor": 2
}
