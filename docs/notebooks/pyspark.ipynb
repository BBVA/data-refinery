{
 "cells": [
  {
   "cell_type": "markdown",
   "metadata": {},
   "source": [
    "# Simple data transformation"
   ]
  },
  {
   "cell_type": "code",
   "execution_count": 1,
   "metadata": {},
   "outputs": [],
   "source": [
    "def print_table(data):\n",
    "    header = ''.join([f'<td><b>{h}</b></td>' for h in data[0].keys()])\n",
    "    head = f\"<tr>{header}</tr>\"\n",
    "    rows = ''.join([f\"<tr>{''.join([f'<td>{v}</td>' for v in row.values()])}</tr>\" for row in data])\n",
    "    \n",
    "    # fields\n",
    "    display(HTML('<table>{}</table>'.format(''.join([header, rows]))))"
   ]
  },
  {
   "cell_type": "code",
   "execution_count": 2,
   "metadata": {},
   "outputs": [
    {
     "data": {
      "text/html": [
       "<table><td><b>date</b></td><td><b>amount</b></td><tr><td>2017-10-26</td><td>104.52</td></tr><tr><td>2017-10-22</td><td>24.52</td></tr><tr><td>2017-10-21</td><td>0</td></tr><tr><td>2017-10-10</td><td>11.11</td></tr><tr><td>2017-09-23</td><td>1078.12</td></tr><tr><td>2017-09-01</td><td>5.9</td></tr><tr><td>2017-08-10</td><td>26.12</td></tr><tr><td>2017-08-01</td><td>19.54</td></tr><tr><td>2017-07-11</td><td>66.06</td></tr></table>"
      ],
      "text/plain": [
       "<IPython.core.display.HTML object>"
      ]
     },
     "metadata": {},
     "output_type": "execute_result"
    }
   ],
   "source": [
    "from IPython.display import HTML, display\n",
    "\n",
    "inp = [{\"date\": \"2017-10-26\", \"amount\": \"104.52\"},\n",
    "       {\"date\": \"2017-10-22\", \"amount\": \"24.52\"},\n",
    "       {\"date\": \"2017-10-21\", \"amount\": \"0\"},\n",
    "       {\"date\": \"2017-10-10\", \"amount\": \"11.11\"},\n",
    "       {\"date\": \"2017-09-23\", \"amount\": \"1078.12\"},\n",
    "       {\"date\": \"2017-09-01\", \"amount\": \"5.9\"},\n",
    "       {\"date\": \"2017-08-10\", \"amount\": \"26.12\"},\n",
    "       {\"date\": \"2017-08-01\", \"amount\": \"19.54\"},\n",
    "       {\"date\": \"2017-07-11\", \"amount\": \"66.06\"}\n",
    "       ]\n",
    "\n",
    "print_table(inp)"
   ]
  },
  {
   "cell_type": "code",
   "execution_count": 3,
   "metadata": {},
   "outputs": [],
   "source": [
    "from datarefinery.tuple.TupleOperations import substitution, compose, wrap, append\n",
    "from datarefinery.FieldOperations import type_enforcer, date_parser, match_dict, column_category\n",
    "from datarefinery.Tr import Tr\n",
    "\n",
    "week_days={\n",
    "    0: \"Mo\", 1: \"Tu\", 2: \"We\", 3: \"Th\", 4: \"Fr\", 5: \"Sa\", 6: \"Su\"\n",
    "}\n",
    "\n",
    "def day_of_week(dat):\n",
    "      return dat.weekday()\n",
    "\n",
    "float_enforcer = type_enforcer(lambda x: float(x))\n",
    "\n",
    "operation = Tr(append([\"date\"], compose(\n",
    "        date_parser([\"%Y-%m-%d\"]),\n",
    "        wrap(day_of_week),\n",
    "        match_dict(week_days),\n",
    "        column_category(week_days.values())\n",
    "    ))) \\\n",
    "    .then(substitution([\"amount\"], float_enforcer)) \\\n",
    "    .apply()"
   ]
  },
  {
   "cell_type": "code",
   "execution_count": 4,
   "metadata": {},
   "outputs": [
    {
     "data": {
      "text/html": [
       "<table><td><b>Mo</b></td><td><b>Tu</b></td><td><b>We</b></td><td><b>Th</b></td><td><b>Fr</b></td><td><b>Sa</b></td><td><b>Su</b></td><td><b>amount</b></td><tr><td>0</td><td>0</td><td>0</td><td>1</td><td>0</td><td>0</td><td>0</td><td>104.52</td></tr><tr><td>0</td><td>0</td><td>0</td><td>0</td><td>0</td><td>0</td><td>1</td><td>24.52</td></tr><tr><td>0</td><td>0</td><td>0</td><td>0</td><td>0</td><td>1</td><td>0</td><td>0.0</td></tr><tr><td>0</td><td>1</td><td>0</td><td>0</td><td>0</td><td>0</td><td>0</td><td>11.11</td></tr><tr><td>0</td><td>0</td><td>0</td><td>0</td><td>0</td><td>1</td><td>0</td><td>1078.12</td></tr><tr><td>0</td><td>0</td><td>0</td><td>0</td><td>1</td><td>0</td><td>0</td><td>5.9</td></tr><tr><td>0</td><td>0</td><td>0</td><td>1</td><td>0</td><td>0</td><td>0</td><td>26.12</td></tr><tr><td>0</td><td>1</td><td>0</td><td>0</td><td>0</td><td>0</td><td>0</td><td>19.54</td></tr><tr><td>0</td><td>1</td><td>0</td><td>0</td><td>0</td><td>0</td><td>0</td><td>66.06</td></tr></table>"
      ],
      "text/plain": [
       "<IPython.core.display.HTML object>"
      ]
     },
     "metadata": {},
     "output_type": "execute_result"
    }
   ],
   "source": [
    "results = []\n",
    "for x in inp:\n",
    "    results.append(dict(operation(x)[1]))\n",
    "\n",
    "print_table(results)"
   ]
  },
  {
   "cell_type": "markdown",
   "metadata": {},
   "source": [
    "# SciKit encode"
   ]
  },
  {
   "cell_type": "code",
   "execution_count": 5,
   "metadata": {},
   "outputs": [
    {
     "name": "stdout",
     "output_type": "stream",
     "text": [
      "[[ 1.  0.  0.]\n",
      " [ 1.  0.  0.]\n",
      " [ 0.  0.  1.]\n",
      " [ 1.  0.  0.]\n",
      " [ 0.  1.  0.]\n",
      " [ 0.  1.  0.]\n",
      " [ 0.  0.  1.]\n",
      " [ 1.  0.  0.]\n",
      " [ 0.  0.  1.]\n",
      " [ 0.  1.  0.]]\n"
     ]
    }
   ],
   "source": [
    "from numpy import array\n",
    "from numpy import argmax\n",
    "from sklearn.preprocessing import LabelEncoder\n",
    "from sklearn.preprocessing import OneHotEncoder\n",
    "data = ['cold', 'cold', 'warm', 'cold', 'hot', 'hot', 'warm', 'cold', 'warm', 'hot']\n",
    "values = array(data)\n",
    "\n",
    "label_encoder = LabelEncoder()\n",
    "integer_encoded = label_encoder.fit_transform(values)\n",
    "\n",
    "onehot_encoder = OneHotEncoder(sparse=False)\n",
    "integer_encoded = integer_encoded.reshape(len(integer_encoded), 1)\n",
    "onehot_encoded = onehot_encoder.fit_transform(integer_encoded)\n",
    "print(onehot_encoded)"
   ]
  },
  {
   "cell_type": "markdown",
   "metadata": {},
   "source": [
    "# Keras encode"
   ]
  },
  {
   "cell_type": "code",
   "execution_count": 6,
   "metadata": {},
   "outputs": [
    {
     "name": "stderr",
     "output_type": "stream",
     "text": [
      "Using TensorFlow backend.\n"
     ]
    },
    {
     "name": "stdout",
     "output_type": "stream",
     "text": [
      "[[ 1.  0.  0.]\n",
      " [ 1.  0.  0.]\n",
      " [ 0.  0.  1.]\n",
      " [ 1.  0.  0.]\n",
      " [ 0.  1.  0.]\n",
      " [ 0.  1.  0.]\n",
      " [ 0.  0.  1.]\n",
      " [ 1.  0.  0.]\n",
      " [ 0.  0.  1.]\n",
      " [ 0.  1.  0.]]\n"
     ]
    }
   ],
   "source": [
    "from numpy import array\n",
    "from numpy import argmax\n",
    "from keras.utils import to_categorical\n",
    "index_data = {'cold': 0, 'hot': 1, 'warm': 2}\n",
    "raw_data = ['cold', 'cold', 'warm', 'cold', 'hot', 'hot', 'warm', 'cold', 'warm', 'hot']\n",
    "\n",
    "data = list(map(lambda x: index_data[x], raw_data))\n",
    "data = array(data)\n",
    "\n",
    "encoded = to_categorical(data)\n",
    "print(encoded)"
   ]
  },
  {
   "cell_type": "markdown",
   "metadata": {},
   "source": [
    "# Data Distiler Encode"
   ]
  },
  {
   "cell_type": "code",
   "execution_count": 7,
   "metadata": {},
   "outputs": [
    {
     "data": {
      "text/html": [
       "<table><td><b>cold</b></td><td><b>hot</b></td><td><b>warm</b></td><tr><td>1</td><td>0</td><td>0</td></tr><tr><td>1</td><td>0</td><td>0</td></tr><tr><td>0</td><td>0</td><td>1</td></tr><tr><td>1</td><td>0</td><td>0</td></tr><tr><td>0</td><td>1</td><td>0</td></tr><tr><td>0</td><td>1</td><td>0</td></tr><tr><td>0</td><td>0</td><td>1</td></tr><tr><td>1</td><td>0</td><td>0</td></tr><tr><td>0</td><td>0</td><td>1</td></tr><tr><td>0</td><td>1</td><td>0</td></tr></table>"
      ],
      "text/plain": [
       "<IPython.core.display.HTML object>"
      ]
     },
     "metadata": {},
     "output_type": "execute_result"
    }
   ],
   "source": [
    "from datarefinery.tuple.TupleOperations import append\n",
    "from datarefinery.FieldOperations import column_category\n",
    "from datarefinery.Tr import Tr\n",
    "\n",
    "raw_data = ['cold', 'cold', 'warm', 'cold', 'hot', 'hot', 'warm', 'cold', 'warm', 'hot']\n",
    "data = [{'category': v} for v in raw_data]\n",
    "\n",
    "enc = Tr(append(['category'], column_category(['cold', 'hot', 'warm']))).apply()\n",
    "res = [dict(enc(x)[1]) for x in data]\n",
    "\n",
    "print_table(res)"
   ]
  },
  {
   "cell_type": "markdown",
   "metadata": {},
   "source": [
    "# Notebook example"
   ]
  },
  {
   "cell_type": "code",
   "execution_count": 8,
   "metadata": {},
   "outputs": [],
   "source": [
    "from datarefinery.tuple.TupleOperations import keep\n",
    "from datarefinery.Tr import Tr\n",
    "\n",
    "keep_people = Tr(keep([\"who\"])).apply()"
   ]
  },
  {
   "cell_type": "code",
   "execution_count": 9,
   "metadata": {},
   "outputs": [],
   "source": [
    "(inp, res, err) = keep_people({\"greet\": \"hello\", \"who\": \"world\"})"
   ]
  },
  {
   "cell_type": "code",
   "execution_count": 10,
   "metadata": {},
   "outputs": [
    {
     "name": "stdout",
     "output_type": "stream",
     "text": [
      "{'who': 'world'}\n"
     ]
    }
   ],
   "source": [
    "print(res)"
   ]
  },
  {
   "cell_type": "markdown",
   "metadata": {},
   "source": [
    "# PySpark example"
   ]
  },
  {
   "cell_type": "code",
   "execution_count": 11,
   "metadata": {},
   "outputs": [
    {
     "ename": "ModuleNotFoundError",
     "evalue": "No module named 'pyspark'",
     "traceback": [
      "\u001b[0;31m---------------------------------------------------------------------------\u001b[0m",
      "\u001b[0;31mModuleNotFoundError\u001b[0m                       Traceback (most recent call last)",
      "\u001b[0;32m<ipython-input-11-9ae820830206>\u001b[0m in \u001b[0;36m<module>\u001b[0;34m()\u001b[0m\n\u001b[0;32m----> 1\u001b[0;31m \u001b[0;32mimport\u001b[0m \u001b[0mpyspark\u001b[0m\u001b[0;34m\u001b[0m\u001b[0m\n\u001b[0m\u001b[1;32m      2\u001b[0m \u001b[0msc\u001b[0m \u001b[0;34m=\u001b[0m \u001b[0mpyspark\u001b[0m\u001b[0;34m.\u001b[0m\u001b[0mSparkContext\u001b[0m\u001b[0;34m(\u001b[0m\u001b[0;34m'local[*]'\u001b[0m\u001b[0;34m)\u001b[0m\u001b[0;34m\u001b[0m\u001b[0m\n",
      "\u001b[0;31mModuleNotFoundError\u001b[0m: No module named 'pyspark'"
     ],
     "output_type": "error"
    }
   ],
   "source": [
    "import pyspark\n",
    "sc = pyspark.SparkContext('local[*]')"
   ]
  },
  {
   "cell_type": "code",
   "execution_count": null,
   "metadata": {},
   "outputs": [],
   "source": [
    "from datarefinery.tuple.TupleOperations import keep\n",
    "from datarefinery.Tr import Tr\n",
    "\n",
    "keep_people = Tr(keep([\"who\"])).apply()"
   ]
  },
  {
   "cell_type": "code",
   "execution_count": null,
   "metadata": {},
   "outputs": [],
   "source": [
    "greets = sc.parallelize([{\"greet\": \"hello\", \"who\": \"world\"}, {\"greet\": \"hello\", \"who\": \"Tom\"}])\n",
    "people = greets.map(keep_people).map(lambda x: x[1]['who'])"
   ]
  },
  {
   "cell_type": "code",
   "execution_count": null,
   "metadata": {
    "scrolled": true
   },
   "outputs": [],
   "source": [
    "print(people.collect())"
   ]
  }
 ],
 "metadata": {
  "kernelspec": {
   "display_name": "Python 3",
   "language": "python",
   "name": "python3"
  },
  "language_info": {
   "codemirror_mode": {
    "name": "ipython",
    "version": 3
   },
   "file_extension": ".py",
   "mimetype": "text/x-python",
   "name": "python",
   "nbconvert_exporter": "python",
   "pygments_lexer": "ipython3",
   "version": "3.6.2"
  }
 },
 "nbformat": 4,
 "nbformat_minor": 2
}
